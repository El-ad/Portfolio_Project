{
 "cells": [
  {
   "cell_type": "markdown",
   "id": "1ed1f398",
   "metadata": {},
   "source": [
    "# Importing Libraries"
   ]
  },
  {
   "cell_type": "code",
   "execution_count": null,
   "id": "62440af4",
   "metadata": {},
   "outputs": [],
   "source": [
    "#importing neccessary libraries\n",
    "import numpy as np\n",
    "import pandas as pd\n",
    "import warnings\n",
    "warnings.filterwarnings(\"ignore\")"
   ]
  },
  {
   "cell_type": "markdown",
   "id": "f4b0830e",
   "metadata": {},
   "source": [
    "# Importing the data"
   ]
  },
  {
   "cell_type": "code",
   "execution_count": null,
   "id": "47d0d192",
   "metadata": {
    "scrolled": true
   },
   "outputs": [],
   "source": [
    "#uploading the dataset\n",
    "google_app = pd.read_csv(r\"C:\\Users\\EliteBook\\Desktop\\WTCF23\\Data Set\\googleplaystore.csv\")\n",
    "google_app.head()"
   ]
  },
  {
   "cell_type": "markdown",
   "id": "76072a32",
   "metadata": {},
   "source": [
    "# Changing the column names to lower case"
   ]
  },
  {
   "cell_type": "code",
   "execution_count": null,
   "id": "b8fb990d",
   "metadata": {},
   "outputs": [],
   "source": [
    "google_app.columns = [element.lower() for element in google_app.columns]"
   ]
  },
  {
   "cell_type": "markdown",
   "id": "c94e906e",
   "metadata": {},
   "source": [
    "# Exploring the data"
   ]
  },
  {
   "cell_type": "code",
   "execution_count": null,
   "id": "27ac928a",
   "metadata": {},
   "outputs": [],
   "source": [
    "#Checking the the number of rows and columns in our data (row, column)\n",
    "google_app.shape"
   ]
  },
  {
   "cell_type": "code",
   "execution_count": null,
   "id": "9355b87e",
   "metadata": {
    "scrolled": true
   },
   "outputs": [],
   "source": [
    "#defining a function to get info on our data into a new dataframe for simplicity\n",
    "def get_info():\n",
    "    info_df = pd.DataFrame(index = google_app.columns)\n",
    "    info_df[\"null values\"] = google_app.isnull().sum()\n",
    "    info_df[\"unique\"] = google_app.nunique()\n",
    "    info_df[\"duplicates\"] = google_app.duplicated().sum()\n",
    "    info_df[\"size\"] = google_app.size\n",
    "    info_df[\"data types\"] = google_app.dtypes\n",
    "    return info_df\n",
    "get_info()"
   ]
  },
  {
   "cell_type": "markdown",
   "id": "042a4a55",
   "metadata": {},
   "source": [
    "# Data Cleaning"
   ]
  },
  {
   "cell_type": "markdown",
   "id": "ff54ac82",
   "metadata": {},
   "source": [
    "## Removing duplicates"
   ]
  },
  {
   "cell_type": "code",
   "execution_count": null,
   "id": "f4f0cd1c",
   "metadata": {},
   "outputs": [],
   "source": [
    "#code to drop duplicates\n",
    "google_app.drop_duplicates(inplace = True)"
   ]
  },
  {
   "cell_type": "code",
   "execution_count": null,
   "id": "33d5da40",
   "metadata": {},
   "outputs": [],
   "source": [
    "#calling the get_info() function to confirm duplicates are off\n",
    "get_info()"
   ]
  },
  {
   "cell_type": "markdown",
   "id": "f9ddf604",
   "metadata": {},
   "source": [
    "## Checking and Removing special characters"
   ]
  },
  {
   "cell_type": "code",
   "execution_count": null,
   "id": "268201ff",
   "metadata": {},
   "outputs": [],
   "source": [
    "#checking for special characters in the installs column\n",
    "google_app[\"installs\"].str.isalpha().unique()"
   ]
  },
  {
   "cell_type": "code",
   "execution_count": null,
   "id": "3bce5303",
   "metadata": {},
   "outputs": [],
   "source": [
    "#removing special characters from the installs column\n",
    "google_app[\"installs\"] = google_app[\"installs\"].replace(\"\\W\", \"\", regex = True)\n",
    "\n",
    "#calling the unique items in the installs to confirm the special characters has been taken off\n",
    "google_app[\"installs\"].unique()"
   ]
  },
  {
   "cell_type": "code",
   "execution_count": null,
   "id": "7675dea4",
   "metadata": {},
   "outputs": [],
   "source": [
    "#checking for special characters in the price column\n",
    "google_app[\"price\"].str.isalpha().unique()"
   ]
  },
  {
   "cell_type": "code",
   "execution_count": null,
   "id": "9aaf67fe",
   "metadata": {},
   "outputs": [],
   "source": [
    "#removing special characters from the installs column\n",
    "google_app[\"price\"] = google_app[\"price\"].replace(\"\\W\", \"\", regex = True)\n",
    "\n",
    "#calling the unique items in the price column to confirm the special characters has been taken off\n",
    "google_app[\"price\"].unique()"
   ]
  },
  {
   "cell_type": "code",
   "execution_count": null,
   "id": "102e6312",
   "metadata": {},
   "outputs": [],
   "source": [
    "#checking for special characters in the size column\n",
    "#Note that there is a module in pandas called .size so using google_app.size will give an error for the size column\n",
    "google_app[\"size\"].str.isalpha().unique()"
   ]
  },
  {
   "cell_type": "code",
   "execution_count": null,
   "id": "e70b69a4",
   "metadata": {},
   "outputs": [],
   "source": [
    "#checking for special characters in the reviews column\n",
    "google_app[\"reviews\"].str.isalpha().unique()"
   ]
  },
  {
   "cell_type": "code",
   "execution_count": null,
   "id": "d647f326",
   "metadata": {},
   "outputs": [],
   "source": [
    "get_info()"
   ]
  },
  {
   "cell_type": "markdown",
   "id": "9978c5a1",
   "metadata": {},
   "source": [
    "# Handling NaN"
   ]
  },
  {
   "cell_type": "code",
   "execution_count": null,
   "id": "4b8a4f26",
   "metadata": {},
   "outputs": [],
   "source": [
    "google_app.query(\"rating.isnull() &\" \"installs.notnull()\")"
   ]
  },
  {
   "cell_type": "code",
   "execution_count": null,
   "id": "5a994932",
   "metadata": {},
   "outputs": [],
   "source": [
    "#checking for unique values present in the type column\n",
    "google_app[\"type\"].unique()"
   ]
  },
  {
   "cell_type": "code",
   "execution_count": null,
   "id": "351b0514",
   "metadata": {},
   "outputs": [],
   "source": [
    "#taking a look at the type index with NaN\n",
    "google_app[google_app[\"type\"].isnull()]\n",
    "\n",
    "\n",
    "#from the output below reviews, price and installs shows zero which can be inferred that the app was not downloaded by users,"
   ]
  },
  {
   "cell_type": "code",
   "execution_count": null,
   "id": "6fe277a0",
   "metadata": {},
   "outputs": [],
   "source": [
    "#dropping NaN for the type column\n",
    "google_app.drop(index = 9148, inplace = True)"
   ]
  },
  {
   "cell_type": "code",
   "execution_count": null,
   "id": "717b7287",
   "metadata": {},
   "outputs": [],
   "source": [
    "#checking for unique values present in the content rating column\n",
    "google_app[\"content rating\"].unique()"
   ]
  },
  {
   "cell_type": "code",
   "execution_count": null,
   "id": "33287084",
   "metadata": {},
   "outputs": [],
   "source": [
    "#taking a look at the content rating index with NaN\n",
    "google_app[google_app[\"content rating\"].isnull()]\n",
    "\n",
    "#the row in the output below looks shifted"
   ]
  },
  {
   "cell_type": "code",
   "execution_count": null,
   "id": "b11d2d5c",
   "metadata": {},
   "outputs": [],
   "source": [
    "#df subsetting\n",
    "#google_app[google_app[\"category\"] == \"Life Made WI-Fi Touchscreen Photo Frame\"]"
   ]
  },
  {
   "cell_type": "code",
   "execution_count": null,
   "id": "0b5dec85",
   "metadata": {},
   "outputs": [],
   "source": [
    "#dropping NaN for the content rating column\n",
    "google_app.drop(index = 10472, inplace = True)"
   ]
  },
  {
   "cell_type": "code",
   "execution_count": null,
   "id": "c59c7aed",
   "metadata": {},
   "outputs": [],
   "source": [
    "#gives you a list of the indexes\n",
    "#google_app[google_app[\"current ver\"].isnull()].index.tolist()"
   ]
  },
  {
   "cell_type": "code",
   "execution_count": null,
   "id": "03642752",
   "metadata": {},
   "outputs": [],
   "source": [
    "#checking for unique values present in the current ver column\n",
    "google_app[\"current ver\"].unique()"
   ]
  },
  {
   "cell_type": "code",
   "execution_count": null,
   "id": "4c24dd97",
   "metadata": {
    "scrolled": true
   },
   "outputs": [],
   "source": [
    "#taking a look at the current ver index with NaN\n",
    "google_app[google_app[\"current ver\"].isnull()]"
   ]
  },
  {
   "cell_type": "code",
   "execution_count": null,
   "id": "bc469f52",
   "metadata": {},
   "outputs": [],
   "source": [
    "#checking for unique values present in the android ver column\n",
    "google_app[\"android ver\"].unique()"
   ]
  },
  {
   "cell_type": "code",
   "execution_count": null,
   "id": "0f641bfc",
   "metadata": {},
   "outputs": [],
   "source": [
    "#taking a look at the android ver index with NaN\n",
    "google_app[google_app[\"android ver\"].isnull()]"
   ]
  },
  {
   "cell_type": "code",
   "execution_count": null,
   "id": "52b4177f",
   "metadata": {},
   "outputs": [],
   "source": [
    "#Since both current ver & android ver are objects we can fill in their NaNs with a string\n",
    "google_app.fillna({\"current ver\" : \"N/A\", \"android ver\" : \"N/A\"}, inplace = True)"
   ]
  },
  {
   "cell_type": "code",
   "execution_count": null,
   "id": "11c19df6",
   "metadata": {},
   "outputs": [],
   "source": [
    "#checking for unique values present in the rating column\n",
    "google_app[\"rating\"].unique()"
   ]
  },
  {
   "cell_type": "code",
   "execution_count": null,
   "id": "e6e2936b",
   "metadata": {},
   "outputs": [],
   "source": [
    "#I will use zero for all NaN in the rating column since there is over 1000 rows with NaN, dropping it may not be the best \n",
    "google_app[\"rating\"].fillna(0, inplace = True)"
   ]
  },
  {
   "cell_type": "code",
   "execution_count": null,
   "id": "75171136",
   "metadata": {},
   "outputs": [],
   "source": [
    "get_info()"
   ]
  },
  {
   "cell_type": "markdown",
   "id": "37461ea1",
   "metadata": {},
   "source": [
    "# Changing the data type for some columns"
   ]
  },
  {
   "cell_type": "code",
   "execution_count": null,
   "id": "e8d11e7b",
   "metadata": {},
   "outputs": [],
   "source": [
    "google_app[\"installs\"] = google_app[\"installs\"].astype(int)"
   ]
  },
  {
   "cell_type": "code",
   "execution_count": null,
   "id": "359d7628",
   "metadata": {},
   "outputs": [],
   "source": [
    "google_app[\"price\"] = google_app[\"price\"].astype(int)"
   ]
  },
  {
   "cell_type": "code",
   "execution_count": null,
   "id": "94a2a8c5",
   "metadata": {},
   "outputs": [],
   "source": [
    "google_app[\"reviews\"] = google_app[\"reviews\"].astype(int)"
   ]
  },
  {
   "cell_type": "code",
   "execution_count": null,
   "id": "bddcd1fa",
   "metadata": {},
   "outputs": [],
   "source": [
    "google_app[\"last updated\"] = pd.to_datetime(google_app[\"last updated\"])\n",
    "#google_app[\"last updated\"].dt.strftime('%d%m%y')"
   ]
  },
  {
   "cell_type": "code",
   "execution_count": null,
   "id": "c0cc0369",
   "metadata": {},
   "outputs": [],
   "source": [
    "google_app"
   ]
  },
  {
   "cell_type": "code",
   "execution_count": null,
   "id": "0e27addb",
   "metadata": {},
   "outputs": [],
   "source": [
    "get_info()"
   ]
  },
  {
   "cell_type": "code",
   "execution_count": null,
   "id": "e169815a",
   "metadata": {},
   "outputs": [],
   "source": [
    "#checking the unique values present in the size column\n",
    "google_app[\"size\"].unique()"
   ]
  },
  {
   "cell_type": "code",
   "execution_count": null,
   "id": "421fcfa4",
   "metadata": {},
   "outputs": [],
   "source": [
    "#converting M to megabyte\n",
    "google_app[\"size\"] = google_app[\"size\"].apply(lambda x:x.replace(\"M\", \"e+6\"))"
   ]
  },
  {
   "cell_type": "code",
   "execution_count": null,
   "id": "29a83cbc",
   "metadata": {},
   "outputs": [],
   "source": [
    "#converting k to kilobyte\n",
    "google_app[\"size\"] = google_app[\"size\"].apply(lambda x:x.replace(\"k\", \"e-3\"))"
   ]
  },
  {
   "cell_type": "code",
   "execution_count": null,
   "id": "bcdb56aa",
   "metadata": {},
   "outputs": [],
   "source": [
    "#replacing 'Varies with device' with NaN\n",
    "google_app[\"size\"] = google_app[\"size\"].replace(\"Varies with device\", np.NaN)"
   ]
  },
  {
   "cell_type": "code",
   "execution_count": null,
   "id": "2088c688",
   "metadata": {},
   "outputs": [],
   "source": [
    "#confirming the size column after imputing NaN\n",
    "get_info()"
   ]
  },
  {
   "cell_type": "code",
   "execution_count": null,
   "id": "acad1bf0",
   "metadata": {},
   "outputs": [],
   "source": [
    "#calling the google_app df to see NaN in the size column\n",
    "google_app[google_app[\"size\"].isnull()]"
   ]
  },
  {
   "cell_type": "code",
   "execution_count": null,
   "id": "8493a05c",
   "metadata": {},
   "outputs": [],
   "source": [
    "#dropping the null values in the size column as replacing with the mean or mode or median may not be ideal as some apps though\n",
    "#with high or low rating may have large or small size\n",
    "google_app.dropna(subset = [\"size\"], inplace = True)"
   ]
  },
  {
   "cell_type": "code",
   "execution_count": null,
   "id": "a4c05200",
   "metadata": {},
   "outputs": [],
   "source": [
    "#confirming NaN in the size column has been dropped by calling the get_info function\n",
    "get_info()"
   ]
  },
  {
   "cell_type": "code",
   "execution_count": null,
   "id": "b3a97563",
   "metadata": {},
   "outputs": [],
   "source": [
    "#converting the size column to numeric\n",
    "google_app[\"size\"] = pd.to_numeric(google_app[\"size\"])"
   ]
  },
  {
   "cell_type": "code",
   "execution_count": null,
   "id": "adcc7212",
   "metadata": {},
   "outputs": [],
   "source": [
    "google_app[\"size\"].unique()"
   ]
  },
  {
   "cell_type": "code",
   "execution_count": null,
   "id": "57f54d85",
   "metadata": {},
   "outputs": [],
   "source": [
    "#saving the cleaned data to in csv format\n",
    "google_app.to_csv(\"google_play_store_dataset_cleaned.csv\")"
   ]
  },
  {
   "cell_type": "code",
   "execution_count": null,
   "id": "ed591d91",
   "metadata": {},
   "outputs": [],
   "source": []
  }
 ],
 "metadata": {
  "kernelspec": {
   "display_name": "Python 3 (ipykernel)",
   "language": "python",
   "name": "python3"
  },
  "language_info": {
   "codemirror_mode": {
    "name": "ipython",
    "version": 3
   },
   "file_extension": ".py",
   "mimetype": "text/x-python",
   "name": "python",
   "nbconvert_exporter": "python",
   "pygments_lexer": "ipython3",
   "version": "3.9.12"
  }
 },
 "nbformat": 4,
 "nbformat_minor": 5
}
