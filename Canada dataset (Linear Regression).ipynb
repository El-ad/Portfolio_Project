{
 "cells": [
  {
   "cell_type": "markdown",
   "id": "9f95e326",
   "metadata": {},
   "source": [
    "## Case: predict canada's per capital income in 2020.  \n",
    "\n",
    "## Predict the per capita income of canada citizen in year 2020\n",
    "\n"
   ]
  },
  {
   "cell_type": "markdown",
   "id": "461ab08e",
   "metadata": {},
   "source": [
    "years = Independent variable\n",
    "\n",
    "per capita income = dependent"
   ]
  },
  {
   "cell_type": "code",
   "execution_count": 1,
   "id": "9275ccb5",
   "metadata": {},
   "outputs": [],
   "source": [
    "#importing libraries\n",
    "import pandas as pd\n",
    "import numpy as np\n",
    "import matplotlib.pyplot as plt\n",
    "%matplotlib inline\n",
    "import warnings\n",
    "warnings.filterwarnings(\"ignore\")\n",
    "from sklearn import linear_model"
   ]
  },
  {
   "cell_type": "code",
   "execution_count": 2,
   "id": "4c1ba031",
   "metadata": {},
   "outputs": [
    {
     "data": {
      "text/html": [
       "<div>\n",
       "<style scoped>\n",
       "    .dataframe tbody tr th:only-of-type {\n",
       "        vertical-align: middle;\n",
       "    }\n",
       "\n",
       "    .dataframe tbody tr th {\n",
       "        vertical-align: top;\n",
       "    }\n",
       "\n",
       "    .dataframe thead th {\n",
       "        text-align: right;\n",
       "    }\n",
       "</style>\n",
       "<table border=\"1\" class=\"dataframe\">\n",
       "  <thead>\n",
       "    <tr style=\"text-align: right;\">\n",
       "      <th></th>\n",
       "      <th>year</th>\n",
       "      <th>per capita income (US$)</th>\n",
       "    </tr>\n",
       "  </thead>\n",
       "  <tbody>\n",
       "    <tr>\n",
       "      <th>0</th>\n",
       "      <td>1970</td>\n",
       "      <td>3399.299037</td>\n",
       "    </tr>\n",
       "    <tr>\n",
       "      <th>1</th>\n",
       "      <td>1971</td>\n",
       "      <td>3768.297935</td>\n",
       "    </tr>\n",
       "    <tr>\n",
       "      <th>2</th>\n",
       "      <td>1972</td>\n",
       "      <td>4251.175484</td>\n",
       "    </tr>\n",
       "    <tr>\n",
       "      <th>3</th>\n",
       "      <td>1973</td>\n",
       "      <td>4804.463248</td>\n",
       "    </tr>\n",
       "    <tr>\n",
       "      <th>4</th>\n",
       "      <td>1974</td>\n",
       "      <td>5576.514583</td>\n",
       "    </tr>\n",
       "  </tbody>\n",
       "</table>\n",
       "</div>"
      ],
      "text/plain": [
       "   year  per capita income (US$)\n",
       "0  1970              3399.299037\n",
       "1  1971              3768.297935\n",
       "2  1972              4251.175484\n",
       "3  1973              4804.463248\n",
       "4  1974              5576.514583"
      ]
     },
     "execution_count": 2,
     "metadata": {},
     "output_type": "execute_result"
    }
   ],
   "source": [
    "#reading in the data\n",
    "canada_per_capita_income = pd.read_csv(r\"C:\\Users\\EliteBook\\Desktop\\WTCF23\\Data Set\\canada_per_capita_income.csv\")\n",
    "canada_per_capita_income.head()"
   ]
  },
  {
   "cell_type": "code",
   "execution_count": 3,
   "id": "2fee129a",
   "metadata": {},
   "outputs": [
    {
     "data": {
      "text/html": [
       "<div>\n",
       "<style scoped>\n",
       "    .dataframe tbody tr th:only-of-type {\n",
       "        vertical-align: middle;\n",
       "    }\n",
       "\n",
       "    .dataframe tbody tr th {\n",
       "        vertical-align: top;\n",
       "    }\n",
       "\n",
       "    .dataframe thead th {\n",
       "        text-align: right;\n",
       "    }\n",
       "</style>\n",
       "<table border=\"1\" class=\"dataframe\">\n",
       "  <thead>\n",
       "    <tr style=\"text-align: right;\">\n",
       "      <th></th>\n",
       "      <th>year</th>\n",
       "      <th>per_capita_income</th>\n",
       "    </tr>\n",
       "  </thead>\n",
       "  <tbody>\n",
       "    <tr>\n",
       "      <th>0</th>\n",
       "      <td>1970</td>\n",
       "      <td>3399.299037</td>\n",
       "    </tr>\n",
       "    <tr>\n",
       "      <th>1</th>\n",
       "      <td>1971</td>\n",
       "      <td>3768.297935</td>\n",
       "    </tr>\n",
       "    <tr>\n",
       "      <th>2</th>\n",
       "      <td>1972</td>\n",
       "      <td>4251.175484</td>\n",
       "    </tr>\n",
       "    <tr>\n",
       "      <th>3</th>\n",
       "      <td>1973</td>\n",
       "      <td>4804.463248</td>\n",
       "    </tr>\n",
       "    <tr>\n",
       "      <th>4</th>\n",
       "      <td>1974</td>\n",
       "      <td>5576.514583</td>\n",
       "    </tr>\n",
       "  </tbody>\n",
       "</table>\n",
       "</div>"
      ],
      "text/plain": [
       "   year  per_capita_income\n",
       "0  1970        3399.299037\n",
       "1  1971        3768.297935\n",
       "2  1972        4251.175484\n",
       "3  1973        4804.463248\n",
       "4  1974        5576.514583"
      ]
     },
     "execution_count": 3,
     "metadata": {},
     "output_type": "execute_result"
    }
   ],
   "source": [
    "#creating desired column names\n",
    "canada_per_capita_income.columns = [\"year\", \"per_capita_income\"]\n",
    "canada_per_capita_income.head()"
   ]
  },
  {
   "cell_type": "code",
   "execution_count": 4,
   "id": "1f57c001",
   "metadata": {},
   "outputs": [],
   "source": [
    "#canada_per_capita_income.rename({\"per capita income\" : \"per_capita_income\"}, inplace = True)"
   ]
  },
  {
   "cell_type": "code",
   "execution_count": 5,
   "id": "8399c40d",
   "metadata": {},
   "outputs": [
    {
     "data": {
      "text/plain": [
       "(47, 2)"
      ]
     },
     "execution_count": 5,
     "metadata": {},
     "output_type": "execute_result"
    }
   ],
   "source": [
    "#checking the shape of the data\n",
    "canada_per_capita_income.shape"
   ]
  },
  {
   "cell_type": "code",
   "execution_count": 6,
   "id": "f68fc771",
   "metadata": {},
   "outputs": [
    {
     "data": {
      "text/html": [
       "<div>\n",
       "<style scoped>\n",
       "    .dataframe tbody tr th:only-of-type {\n",
       "        vertical-align: middle;\n",
       "    }\n",
       "\n",
       "    .dataframe tbody tr th {\n",
       "        vertical-align: top;\n",
       "    }\n",
       "\n",
       "    .dataframe thead th {\n",
       "        text-align: right;\n",
       "    }\n",
       "</style>\n",
       "<table border=\"1\" class=\"dataframe\">\n",
       "  <thead>\n",
       "    <tr style=\"text-align: right;\">\n",
       "      <th></th>\n",
       "      <th>null values</th>\n",
       "      <th>data types</th>\n",
       "      <th>duplicates</th>\n",
       "      <th>size</th>\n",
       "    </tr>\n",
       "  </thead>\n",
       "  <tbody>\n",
       "    <tr>\n",
       "      <th>year</th>\n",
       "      <td>0</td>\n",
       "      <td>int64</td>\n",
       "      <td>0</td>\n",
       "      <td>94</td>\n",
       "    </tr>\n",
       "    <tr>\n",
       "      <th>per_capita_income</th>\n",
       "      <td>0</td>\n",
       "      <td>float64</td>\n",
       "      <td>0</td>\n",
       "      <td>94</td>\n",
       "    </tr>\n",
       "  </tbody>\n",
       "</table>\n",
       "</div>"
      ],
      "text/plain": [
       "                   null values data types  duplicates  size\n",
       "year                         0      int64           0    94\n",
       "per_capita_income            0    float64           0    94"
      ]
     },
     "execution_count": 6,
     "metadata": {},
     "output_type": "execute_result"
    }
   ],
   "source": [
    "#a function to easily get insight on null values, data types etc\n",
    "def explore():\n",
    "    explore = pd.DataFrame(index = canada_per_capita_income.columns)\n",
    "    explore[\"null values\"] = canada_per_capita_income.isnull().sum()\n",
    "    explore[\"data types\"] = canada_per_capita_income.dtypes\n",
    "    explore[\"duplicates\"] = canada_per_capita_income.duplicated().sum()\n",
    "    explore[\"size\"] = canada_per_capita_income.size\n",
    "    return explore\n",
    "explore()"
   ]
  },
  {
   "cell_type": "code",
   "execution_count": 7,
   "id": "9a825ad3",
   "metadata": {},
   "outputs": [
    {
     "data": {
      "image/png": "[encoded data removed]",
      "text/plain": [
       "<Figure size 432x288 with 1 Axes>"
      ]
     },
     "metadata": {
      "needs_background": "light"
     },
     "output_type": "display_data"
    }
   ],
   "source": [
    "#checking for a linear relationship between the variables\n",
    "plt.scatter(canada_per_capita_income[\"year\"], canada_per_capita_income[\"per_capita_income\"], marker = \"*\", color = \"purple\")\n",
    "plt.xlabel(\"Year\", fontsize = 12)\n",
    "plt.ylabel(\"Per Capita Income\", fontsize = 12)\n",
    "plt.title(\"Scatter Plot of Year vs Per Capita Income\")\n",
    "#plt.ylim(45000)\n",
    "plt.xlim(1980)\n",
    "plt.show()"
   ]
  },
  {
   "cell_type": "code",
   "execution_count": 8,
   "id": "30158761",
   "metadata": {},
   "outputs": [
    {
     "data": {
      "text/plain": [
       "LinearRegression()"
      ]
     },
     "execution_count": 8,
     "metadata": {},
     "output_type": "execute_result"
    }
   ],
   "source": [
    "#creating the model\n",
    "model = linear_model.LinearRegression()\n",
    "model.fit(canada_per_capita_income[[\"year\"]], canada_per_capita_income[[\"per_capita_income\"]])"
   ]
  },
  {
   "cell_type": "code",
   "execution_count": 9,
   "id": "30134c6e",
   "metadata": {},
   "outputs": [],
   "source": [
    "#print(\"The slope of the model is \",model.coef_)\n",
    "#print(\"The intercept is \", model.intercept_)"
   ]
  },
  {
   "cell_type": "code",
   "execution_count": 10,
   "id": "527a040a",
   "metadata": {},
   "outputs": [
    {
     "data": {
      "text/plain": [
       "[(-1632210.7578554575, array([828.46507522]))]"
      ]
     },
     "execution_count": 10,
     "metadata": {},
     "output_type": "execute_result"
    }
   ],
   "source": [
    "#Basically zip joins items into one container\n",
    "#model intercept and coeffient\n",
    "list(zip(model.intercept_, model.coef_))"
   ]
  },
  {
   "cell_type": "code",
   "execution_count": 11,
   "id": "cd94bb3d",
   "metadata": {
    "scrolled": true
   },
   "outputs": [
    {
     "data": {
      "text/html": [
       "<div>\n",
       "<style scoped>\n",
       "    .dataframe tbody tr th:only-of-type {\n",
       "        vertical-align: middle;\n",
       "    }\n",
       "\n",
       "    .dataframe tbody tr th {\n",
       "        vertical-align: top;\n",
       "    }\n",
       "\n",
       "    .dataframe thead th {\n",
       "        text-align: right;\n",
       "    }\n",
       "</style>\n",
       "<table border=\"1\" class=\"dataframe\">\n",
       "  <thead>\n",
       "    <tr style=\"text-align: right;\">\n",
       "      <th></th>\n",
       "      <th>years</th>\n",
       "    </tr>\n",
       "  </thead>\n",
       "  <tbody>\n",
       "    <tr>\n",
       "      <th>0</th>\n",
       "      <td>2020</td>\n",
       "    </tr>\n",
       "    <tr>\n",
       "      <th>1</th>\n",
       "      <td>2021</td>\n",
       "    </tr>\n",
       "    <tr>\n",
       "      <th>2</th>\n",
       "      <td>2022</td>\n",
       "    </tr>\n",
       "    <tr>\n",
       "      <th>3</th>\n",
       "      <td>2023</td>\n",
       "    </tr>\n",
       "    <tr>\n",
       "      <th>4</th>\n",
       "      <td>2024</td>\n",
       "    </tr>\n",
       "  </tbody>\n",
       "</table>\n",
       "</div>"
      ],
      "text/plain": [
       "   years\n",
       "0   2020\n",
       "1   2021\n",
       "2   2022\n",
       "3   2023\n",
       "4   2024"
      ]
     },
     "execution_count": 11,
     "metadata": {},
     "output_type": "execute_result"
    }
   ],
   "source": [
    "#years to be predicted\n",
    "predict_years = pd.DataFrame({\"years\": np.arange(2020, 2067)})\n",
    "predict_years.head()"
   ]
  },
  {
   "cell_type": "code",
   "execution_count": 12,
   "id": "54c7329c",
   "metadata": {},
   "outputs": [],
   "source": [
    "#defining a function to contain the model for easy use\n",
    "def per_capita(x):\n",
    "    p = model.predict(x)\n",
    "    return p"
   ]
  },
  {
   "cell_type": "code",
   "execution_count": 13,
   "id": "a2c72e28",
   "metadata": {},
   "outputs": [],
   "source": [
    "#predicted years and predicted per capita income\n",
    "canada_per_capita_income[\"years_to_predict\"] = predict_years[\"years\"]\n",
    "canada_per_capita_income[\"predicted_per_capita_income\"] = per_capita(predict_years)"
   ]
  },
  {
   "cell_type": "code",
   "execution_count": 14,
   "id": "ba2664a0",
   "metadata": {},
   "outputs": [
    {
     "data": {
      "text/html": [
       "<div>\n",
       "<style scoped>\n",
       "    .dataframe tbody tr th:only-of-type {\n",
       "        vertical-align: middle;\n",
       "    }\n",
       "\n",
       "    .dataframe tbody tr th {\n",
       "        vertical-align: top;\n",
       "    }\n",
       "\n",
       "    .dataframe thead th {\n",
       "        text-align: right;\n",
       "    }\n",
       "</style>\n",
       "<table border=\"1\" class=\"dataframe\">\n",
       "  <thead>\n",
       "    <tr style=\"text-align: right;\">\n",
       "      <th></th>\n",
       "      <th>year</th>\n",
       "      <th>per_capita_income</th>\n",
       "      <th>years_to_predict</th>\n",
       "      <th>predicted_per_capita_income</th>\n",
       "    </tr>\n",
       "  </thead>\n",
       "  <tbody>\n",
       "    <tr>\n",
       "      <th>0</th>\n",
       "      <td>1970</td>\n",
       "      <td>3399.299037</td>\n",
       "      <td>2020</td>\n",
       "      <td>41288.694094</td>\n",
       "    </tr>\n",
       "    <tr>\n",
       "      <th>1</th>\n",
       "      <td>1971</td>\n",
       "      <td>3768.297935</td>\n",
       "      <td>2021</td>\n",
       "      <td>42117.159170</td>\n",
       "    </tr>\n",
       "    <tr>\n",
       "      <th>2</th>\n",
       "      <td>1972</td>\n",
       "      <td>4251.175484</td>\n",
       "      <td>2022</td>\n",
       "      <td>42945.624245</td>\n",
       "    </tr>\n",
       "    <tr>\n",
       "      <th>3</th>\n",
       "      <td>1973</td>\n",
       "      <td>4804.463248</td>\n",
       "      <td>2023</td>\n",
       "      <td>43774.089320</td>\n",
       "    </tr>\n",
       "    <tr>\n",
       "      <th>4</th>\n",
       "      <td>1974</td>\n",
       "      <td>5576.514583</td>\n",
       "      <td>2024</td>\n",
       "      <td>44602.554395</td>\n",
       "    </tr>\n",
       "    <tr>\n",
       "      <th>5</th>\n",
       "      <td>1975</td>\n",
       "      <td>5998.144346</td>\n",
       "      <td>2025</td>\n",
       "      <td>45431.019471</td>\n",
       "    </tr>\n",
       "    <tr>\n",
       "      <th>6</th>\n",
       "      <td>1976</td>\n",
       "      <td>7062.131392</td>\n",
       "      <td>2026</td>\n",
       "      <td>46259.484546</td>\n",
       "    </tr>\n",
       "    <tr>\n",
       "      <th>7</th>\n",
       "      <td>1977</td>\n",
       "      <td>7100.126170</td>\n",
       "      <td>2027</td>\n",
       "      <td>47087.949621</td>\n",
       "    </tr>\n",
       "    <tr>\n",
       "      <th>8</th>\n",
       "      <td>1978</td>\n",
       "      <td>7247.967035</td>\n",
       "      <td>2028</td>\n",
       "      <td>47916.414696</td>\n",
       "    </tr>\n",
       "    <tr>\n",
       "      <th>9</th>\n",
       "      <td>1979</td>\n",
       "      <td>7602.912681</td>\n",
       "      <td>2029</td>\n",
       "      <td>48744.879771</td>\n",
       "    </tr>\n",
       "  </tbody>\n",
       "</table>\n",
       "</div>"
      ],
      "text/plain": [
       "   year  per_capita_income  years_to_predict  predicted_per_capita_income\n",
       "0  1970        3399.299037              2020                 41288.694094\n",
       "1  1971        3768.297935              2021                 42117.159170\n",
       "2  1972        4251.175484              2022                 42945.624245\n",
       "3  1973        4804.463248              2023                 43774.089320\n",
       "4  1974        5576.514583              2024                 44602.554395\n",
       "5  1975        5998.144346              2025                 45431.019471\n",
       "6  1976        7062.131392              2026                 46259.484546\n",
       "7  1977        7100.126170              2027                 47087.949621\n",
       "8  1978        7247.967035              2028                 47916.414696\n",
       "9  1979        7602.912681              2029                 48744.879771"
      ]
     },
     "execution_count": 14,
     "metadata": {},
     "output_type": "execute_result"
    }
   ],
   "source": [
    "canada_per_capita_income.head(10)"
   ]
  },
  {
   "cell_type": "code",
   "execution_count": 15,
   "id": "6f27ba1b",
   "metadata": {},
   "outputs": [
    {
     "data": {
      "image/png": "[encoded data removed]",
      "text/plain": [
       "<Figure size 432x288 with 1 Axes>"
      ]
     },
     "metadata": {
      "needs_background": "light"
     },
     "output_type": "display_data"
    }
   ],
   "source": [
    "#graph of predicted per capita income\n",
    "plt.scatter(canada_per_capita_income[\"year\"], canada_per_capita_income[\"per_capita_income\"], marker = \"+\", color = \"purple\")\n",
    "plt.xlabel(\"Year\", fontsize = 15)\n",
    "plt.ylabel(\"Predicted Per Capita Income\", fontsize = 15)\n",
    "\n",
    "#This plots a line throught your points (basically we could say it uses the eyeball fitting method)\n",
    "#plt.plot (x, y, \"o\") by default it's a straight line as shown below\n",
    "plt.plot(canada_per_capita_income[\"year\"], model.predict(canada_per_capita_income[[\"year\"]]))\n",
    "plt.show()"
   ]
  },
  {
   "cell_type": "code",
   "execution_count": 16,
   "id": "178c223a",
   "metadata": {},
   "outputs": [
    {
     "data": {
      "image/png": "[encoded data removed]",
      "text/plain": [
       "<Figure size 432x288 with 1 Axes>"
      ]
     },
     "metadata": {
      "needs_background": "light"
     },
     "output_type": "display_data"
    }
   ],
   "source": [
    "#This finds the least square fit for the graph\n",
    "plt.scatter(canada_per_capita_income[\"year\"], canada_per_capita_income[\"per_capita_income\"], marker = \"+\", color = \"purple\")\n",
    "plt.xlabel(\"Year\", fontsize = 15)\n",
    "plt.ylabel(\"Predicted Per Capita Income\", fontsize = 15)\n",
    "np.polyfit(canada_per_capita_income[\"year\"], canada_per_capita_income[\"per_capita_income\"], 1)\n",
    "plt.plot(canada_per_capita_income[\"year\"], model.predict(canada_per_capita_income[[\"year\"]]))\n",
    "plt.show()"
   ]
  },
  {
   "cell_type": "code",
   "execution_count": 17,
   "id": "809cd697",
   "metadata": {},
   "outputs": [
    {
     "data": {
      "text/plain": [
       "array([[90996.59860778]])"
      ]
     },
     "execution_count": 17,
     "metadata": {},
     "output_type": "execute_result"
    }
   ],
   "source": [
    "#testing the model using the function defined\n",
    "per_capita([[2080]])"
   ]
  },
  {
   "cell_type": "code",
   "execution_count": 18,
   "id": "83ef1146",
   "metadata": {},
   "outputs": [],
   "source": [
    "import seaborn as sns"
   ]
  },
  {
   "cell_type": "code",
   "execution_count": 19,
   "id": "9cffb01b",
   "metadata": {},
   "outputs": [
    {
     "data": {
      "text/plain": [
       "<AxesSubplot:>"
      ]
     },
     "execution_count": 19,
     "metadata": {},
     "output_type": "execute_result"
    },
    {
     "data": {
      "image/png": "[encoded data removed]",
      "text/plain": [
       "<Figure size 432x288 with 2 Axes>"
      ]
     },
     "metadata": {
      "needs_background": "light"
     },
     "output_type": "display_data"
    }
   ],
   "source": [
    "sns.heatmap(canada_per_capita_income.corr(), annot = True, cmap = \"flare\")"
   ]
  },
  {
   "cell_type": "code",
   "execution_count": null,
   "id": "3cbeaf12",
   "metadata": {},
   "outputs": [],
   "source": []
  }
 ],
 "metadata": {
  "kernelspec": {
   "display_name": "Python 3 (ipykernel)",
   "language": "python",
   "name": "python3"
  },
  "language_info": {
   "codemirror_mode": {
    "name": "ipython",
    "version": 3
   },
   "file_extension": ".py",
   "mimetype": "text/x-python",
   "name": "python",
   "nbconvert_exporter": "python",
   "pygments_lexer": "ipython3",
   "version": "3.9.12"
  }
 },
 "nbformat": 4,
 "nbformat_minor": 5
}
